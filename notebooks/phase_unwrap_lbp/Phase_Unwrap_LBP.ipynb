{
 "cells": [
  {
   "cell_type": "code",
   "execution_count": 9,
   "id": "2aca2581-651d-4db5-b2b5-e855a55d63a1",
   "metadata": {
    "tags": []
   },
   "outputs": [],
   "source": [
    "import numpy as np\n",
    "import matplotlib.pyplot as plt\n",
    "%matplotlib inline"
   ]
  },
  {
   "cell_type": "markdown",
   "id": "c5a4d1a4-a874-4573-a10e-e9084a034864",
   "metadata": {},
   "source": [
    "# Loopy Belief Propagation for Phase Unwrapping Time of Flight Cameras"
   ]
  },
  {
   "cell_type": "markdown",
   "id": "e6975fce-8480-4f97-9a52-111c0bd180ca",
   "metadata": {},
   "source": [
    "Structure of PGM:\n",
    "- nodes (discrete variables representing -1,0,1 for the phase jumps)\n",
    "- factors (connecting variables together)\n",
    "    - represent zero-curl constraints\n",
    "\n",
    "Details:\n",
    "- jump nodes from pixel (x,y) to (x,y+1) is represented as $s_y(x,y)$\n",
    "- jump nodes from pixel (x,y) to (x+1,y) is represented as $s_x(s,y)$\n",
    "\n",
    "- $s_x(x,y) = -1$ means that phase jump goes from (x+1,y) to (x,y)\n",
    "- $s_x(x,y) = 1$ means that phase jump goes from (x,y) to (x+1,y)\n",
    "\n",
    "probability distribution:\n",
    "- $P(s_{x,y}(x,y) = i | \\Phi) \\propto f_d(x,y,i)$\n",
    "\n",
    "$f_d$ represents discontinuity of depth measurements.\n",
    "\n",
    "for x\n",
    "- $f_d(x,y,i) = exp\\{ -\\frac{(\\phi(x+1,y) - \\phi(x,y) - i)^2}{2\\sigma^2} \\}$\n",
    "\n",
    "for y\n",
    "- $f_d(x,y,i) = exp\\{ -\\frac{(\\phi(x,y+1) - \\phi(x,y) - i)^2}{2\\sigma^2} \\}$\n",
    "\n",
    "in here, $\\phi(x,y)$ is the phase wrapped value (0->1)\n",
    "\n",
    "Zero-Curl Constraint (factor)\n",
    "- $s_x(x,y) + s_y(x+1,y) - s_x(x,y+1) - s_y(x,y) = 0$\n",
    "- if the above is satisfied, we stop"
   ]
  },
  {
   "cell_type": "markdown",
   "id": "0836b853-fbd3-476d-b324-5bf1d3a124bf",
   "metadata": {},
   "source": [
    "Implementation Notes:\n",
    "- we will use CS-274B implementation of LBP"
   ]
  },
  {
   "cell_type": "code",
   "execution_count": 10,
   "id": "6caeb220-fb42-4e94-8ddc-49f23ca3b821",
   "metadata": {
    "tags": []
   },
   "outputs": [],
   "source": [
    "#274b library\n",
    "from factor_utils import *"
   ]
  },
  {
   "cell_type": "code",
   "execution_count": 17,
   "id": "421f7130-f416-47d1-b763-6caeb28dd16d",
   "metadata": {
    "tags": []
   },
   "outputs": [],
   "source": [
    "import numpy as np\n",
    "import matplotlib.pyplot as plt\n",
    "import os\n",
    "import sys\n",
    "import cv2\n",
    "sys.path.append(\"/home/andang/workspace/CV_Lab/Hololens-Project/hl2ss/viewer\")\n",
    "\n",
    "import json\n",
    "import hl2ss\n",
    "import hl2ss_3dcv"
   ]
  },
  {
   "cell_type": "markdown",
   "id": "8579281c-9f65-4b5f-a731-46c8ce279b84",
   "metadata": {},
   "source": [
    "## Loading Data"
   ]
  },
  {
   "cell_type": "code",
   "execution_count": 18,
   "id": "085914d7-7779-4a19-97d9-f0e08f6d6a6b",
   "metadata": {},
   "outputs": [],
   "source": [
    "CALIB_PATH = '/home/andang/workspace/CV_Lab/Hololens-Project/datasets/'\n",
    "def get_all_calibration():\n",
    "    calib_pv = hl2ss_3dcv._load_calibration_pv(CALIB_PATH+'calibrations/personal_video')\n",
    "    calib_lt = hl2ss_3dcv._load_calibration_rm_depth_longthrow(CALIB_PATH+'calibrations/rm_depth_longthrow')\n",
    "    calib_ahat = hl2ss_3dcv._load_calibration_rm_depth_ahat(CALIB_PATH+'calibrations/rm_depth_ahat')\n",
    "    calib_rf = hl2ss_3dcv._load_calibration_rm_vlc(CALIB_PATH+'calibrations/rm_vlc_rightfront')\n",
    "    calib_lf = hl2ss_3dcv._load_calibration_rm_vlc(CALIB_PATH+'calibrations/rm_vlc_leftfront')\n",
    "    calib_rr = hl2ss_3dcv._load_calibration_rm_vlc(CALIB_PATH+'calibrations/rm_vlc_rightright')\n",
    "    calib_lr = hl2ss_3dcv._load_calibration_rm_vlc(CALIB_PATH+'calibrations/rm_vlc_leftleft')\n",
    "    \n",
    "    uv2xy = hl2ss_3dcv.compute_uv2xy(calib_ahat.intrinsics, hl2ss.Parameters_RM_DEPTH_AHAT.WIDTH, hl2ss.Parameters_RM_DEPTH_AHAT.HEIGHT)\n",
    "    # xy1, scale = hl2ss_3dcv.rm_depth_compute_rays(uv2xy, calib_ahat.scale)\n",
    "    \n",
    "    #return all calibrations + xy1 + scale\n",
    "    return calib_pv, calib_ahat, calib_lt, calib_lf, calib_rf, calib_lr, calib_rr\n",
    "\n",
    "\n",
    "def rm_depth_undistort(depth, undistort_map):\n",
    "    return cv2.remap(depth, undistort_map[:, :, 0], undistort_map[:, :, 1], cv2.INTER_NEAREST)"
   ]
  },
  {
   "cell_type": "code",
   "execution_count": 19,
   "id": "2ae4c2b4-5571-435a-a9cf-16e8249d1926",
   "metadata": {},
   "outputs": [],
   "source": [
    "calib_pv, calib_ahat, calib_lt, calib_lf, calib_rf, calib_lr, calib_rr = get_all_calibration()"
   ]
  },
  {
   "cell_type": "code",
   "execution_count": 20,
   "id": "6e307a30-53d3-4eba-b449-855251926a97",
   "metadata": {
    "tags": []
   },
   "outputs": [],
   "source": [
    "class DataLoader:\n",
    "    def __init__(self, path):\n",
    "        self.PATH = path\n",
    "        with open(self.PATH+'vlc1_pose.json') as f: # vlc LF\n",
    "            self.j_vlc_lf = json.load(f)\n",
    "        with open(self.PATH+'vlc3_pose.json') as f:\n",
    "            self.j_vlc_rf = json.load(f)\n",
    "        with open(self.PATH+'depth_ahat_pose.json') as f: # long throw\n",
    "            self.j_ahat = json.load(f)\n",
    "        with open(self.PATH+'pv_pose.json') as f: # long throw\n",
    "            self.j_pv = json.load(f)\n",
    "        with open(self.PATH+'vlc2_pose.json') as f: # long throw\n",
    "            self.j_vlc_ll = json.load(f)\n",
    "        with open(self.PATH+'vlc4_pose.json') as f: # long throw\n",
    "            self.j_vlc_rr = json.load(f)\n",
    "            \n",
    "        self.tstamps = sorted(self.j_pv.keys())\n",
    "        \n",
    "    def get_posed_data(self, idx, sensor_name):\n",
    "\n",
    "        if type(idx) is str:\n",
    "            tstamp_name = idx\n",
    "        else:\n",
    "            tstamp_name = self.tstamps[idx]\n",
    "        im = cv2.imread(self.PATH+sensor_name+'/'+tstamp_name+'.png')\n",
    "        \n",
    "        if sensor_name == 'vlc_lf':\n",
    "            pose = self.j_vlc_lf[tstamp_name]\n",
    "        elif sensor_name == 'vlc_rf':\n",
    "            pose = self.j_vlc_rf[tstamp_name]\n",
    "            \n",
    "        elif sensor_name == 'pv':\n",
    "            pose = self.j_pv[tstamp_name]\n",
    "        elif sensor_name == 'depth_ahat':\n",
    "            pose = self.j_ahat[tstamp_name]\n",
    "            \n",
    "        elif sensor_name == 'vlc_ll':\n",
    "            pose = self.j_vlc_ll[tstamp_name]\n",
    "        elif sensor_name == 'vlc_rr':\n",
    "            pose = self.j_vlc_rr[tstamp_name]\n",
    "        else:\n",
    "            pose = []\n",
    "        return im, np.array(pose)"
   ]
  },
  {
   "cell_type": "code",
   "execution_count": 21,
   "id": "170f9b08-c5cb-4439-8a48-784231292735",
   "metadata": {
    "tags": []
   },
   "outputs": [],
   "source": [
    "PATH = '/home/andang/workspace/CV_Lab/Hololens-Project/datasets/uav_place/vid2/'\n",
    "dataload = DataLoader(PATH)"
   ]
  },
  {
   "cell_type": "code",
   "execution_count": 22,
   "id": "1afcf61f-d523-46c3-8b57-6caa82f28b85",
   "metadata": {
    "tags": []
   },
   "outputs": [],
   "source": [
    "im_ahat, pose = dataload.get_posed_data(3500,'depth_ahat')\n",
    "\n",
    "im_ahat = rm_depth_undistort(im_ahat,calib_ahat.undistort_map)"
   ]
  },
  {
   "cell_type": "code",
   "execution_count": 23,
   "id": "f8d08e32-27b3-4d23-8f9e-8098cc93bf29",
   "metadata": {
    "tags": []
   },
   "outputs": [
    {
     "data": {
      "image/png": "[encoded data removed]",
      "text/plain": [
       "<Figure size 640x480 with 1 Axes>"
      ]
     },
     "metadata": {},
     "output_type": "display_data"
    }
   ],
   "source": [
    "plt.imshow(im_ahat)\n",
    "plt.title('Showcase Phase Wrapping')\n",
    "plt.show()"
   ]
  },
  {
   "cell_type": "markdown",
   "id": "2adeba2e-c64b-4b22-8f49-e7d9272b7617",
   "metadata": {},
   "source": [
    "## Testing LBP"
   ]
  },
  {
   "cell_type": "code",
   "execution_count": 24,
   "id": "3aea783f-545e-4277-ab94-854c0868eae9",
   "metadata": {
    "tags": []
   },
   "outputs": [],
   "source": [
    "G = make_debug_graph()"
   ]
  },
  {
   "cell_type": "code",
   "execution_count": 25,
   "id": "72a1fbe6-29e8-41fb-902b-782c8d0e6139",
   "metadata": {
    "tags": []
   },
   "outputs": [
    {
     "name": "stdout",
     "output_type": "stream",
     "text": [
      "Parallel LBP converged in 2 iterations.\n",
      "{'x4': array([[0.4],\n",
      "       [0.6]]), 'x3': array([[0.5],\n",
      "       [0.5]]), 'x2': array([[0.345],\n",
      "       [0.38 ],\n",
      "       [0.275]]), 'x1': array([[0.4935],\n",
      "       [0.5065]])}\n"
     ]
    }
   ],
   "source": [
    "nodeMargs = run_loopy_bp_parallel(G,100,1e-2)\n",
    "print(nodeMargs[-1])"
   ]
  },
  {
   "cell_type": "markdown",
   "id": "6a7ccc83-bef7-4434-b563-e4a1d61d7f9a",
   "metadata": {},
   "source": [
    "## Creating Graph from Phase Unwrapping LBP Paper"
   ]
  },
  {
   "cell_type": "code",
   "execution_count": 26,
   "id": "ec727c02-4be0-4ac3-93f9-0d8a718882b6",
   "metadata": {
    "tags": []
   },
   "outputs": [],
   "source": [
    "def create_phase_unwrap_graph(im_ahat, depth_var):\n",
    "    '''\n",
    "        Parameters:\n",
    "        ============\n",
    "        :im_ahat (H,W) depth phase wrapped image grayscaled and scaled from [0,1) dtype=float\n",
    "        :depth_var (scalar) value representing a user-specified parameter of the depth variance between pixel\n",
    "        \n",
    "        Returns:\n",
    "        ========\n",
    "        -> Probabilistic Graphical Model of the phase wrapping problem.\n",
    "        \n",
    "    '''\n",
    "    \n",
    "    h,w = im_ahat.shape[:2]\n",
    "    \n",
    "    '''\n",
    "        Creating Jump Nodes\n",
    "        ===================\n",
    "        \n",
    "            Example:\n",
    "            ========\n",
    "            (0,2)  --- sx(0,2) --- (1,2)\n",
    "              |           |          |\n",
    "            sy(0,1) ---  curl  --- sy(1,1)\n",
    "              |           |          |\n",
    "            (0,1)  --- sx(0,1) --- (1,1)\n",
    "              |           |          |\n",
    "            sy(0,0) ---  curl  --- sy(1,0)\n",
    "              |           |          |\n",
    "            (0,0)  --- sx(0,0) --- (1,0)\n",
    "            \n",
    "            # y jump nodes = H-1\n",
    "            # x jump nodes = W-1\n",
    "    '''\n",
    "    \n",
    "    G = SimpleFactorGraph()\n",
    "    \n",
    "    #create list of nodes\n",
    "    #each node is a variable of 3 states (-1,0,1)\n",
    "    \n",
    "    print('Adding nodes...')\n",
    "    node_list = []\n",
    "    for i in range(h):\n",
    "        for j in range(w):\n",
    "            if j < w-1:\n",
    "                node_list.append(f'Sx({j},{i})') #S_x(x,y)\n",
    "            if i < h-1:\n",
    "                node_list.append(f'Sy({j},{i})') #S_y(x,y)\n",
    "    \n",
    "    G.add_nodes_from(node_list)\n",
    "    \n",
    "    edges_list = []\n",
    "    factors_list = []\n",
    "    \n",
    "    # add unary evidence factors that take into account the depth\n",
    "    print('Adding unary evidence factors...')\n",
    "    for i in range(h):\n",
    "        for j in range(w):\n",
    "            if j < w-1:\n",
    "                #f_d for s_x\n",
    "                factor_array_X = np.arange(-1,2,dtype=np.float32)\n",
    "                factor_array_X = np.exp(-1*((im_ahat[i,j+1] - im_ahat[i,j] - factor_array_X)**2)/(2*depth_var))\n",
    "                phi_x = FastDiscreteFactor([f'Sx({j},{i})'], [3], factor_array_X)\n",
    "                \n",
    "                factors_list.append(phi_x)\n",
    "                edges_list.append((f'Sx({j},{i})',phi_x))\n",
    "                \n",
    "            if i < h-1:\n",
    "                factor_array_Y = np.arange(-1,2,dtype=np.float32)\n",
    "                factor_array_Y = np.exp(-1*((im_ahat[i+1,j] - im_ahat[i,j] - factor_array_Y)**2)/(2*depth_var))\n",
    "                phi_y = FastDiscreteFactor([f'Sy({j},{i})'], [3], factor_array_Y)\n",
    "                \n",
    "                factors_list.append(phi_y)\n",
    "                edges_list.append((f'Sy({j},{i})',phi_y))\n",
    "    G.add_factors(*factors_list)\n",
    "    G.add_edges_from(edges_list)\n",
    "\n",
    "\n",
    "\n",
    "    # add unary evidence factors that take into account the depth\n",
    "    # print('Adding unary evidence factors...')\n",
    "#     test = np.ones((512,512),dtype=np.float32)\n",
    "#     factorStack = np.dstack((test*-1,test*0,test*1))\n",
    "    \n",
    "#     X_array = np.exp(-1*(( (im_ahat[:,1:] - im_ahat[:,:-1])[:,:,np.newaxis] - factorStack[:,:-1])**2)/(2*depth_var))\n",
    "#     Y_array = np.exp(-1*(( (im_ahat[1:,:] - im_ahat[:-1,:])[:,:,np.newaxis] - factorStack[:-1,:])**2)/(2*depth_var))\n",
    "    \n",
    "#     for i in range(h):\n",
    "#         for j in range(w):\n",
    "#             if j < w-1:\n",
    "#                 factor_array_X = X_array[i,j,:]\n",
    "#                 phi_x = FastDiscreteFactor([f'Sx({j},{i})'], [3], factor_array_X)\n",
    "                \n",
    "#                 factors_list.append(phi_x)\n",
    "#                 edges_list.append((f'Sx({j},{i})',phi_x))\n",
    "#             if i < h-1:\n",
    "#                 factor_array_Y = Y_array[i,j,:]\n",
    "#                 phi_y = FastDiscreteFactor([f'Sy({j},{i})'], [3], factor_array_Y)\n",
    "                \n",
    "#                 factors_list.append(phi_y)\n",
    "#                 edges_list.append((f'Sy({j},{i})',phi_y))\n",
    "#     G.add_factors(*factors_list)\n",
    "#     G.add_edges_from(edges_list)\n",
    "    \n",
    "    \n",
    "    \n",
    "    # add boundary factors to represent the zero-curl node constraint\n",
    "    print('Adding curl constraint factors...')\n",
    "    \n",
    "    boundary_factors = []\n",
    "    boundary_edges = []\n",
    "    for i in range(h-1):\n",
    "        for j in range(w-1):\n",
    "            #zero curl constraint equation = s_x(x,y) + s_y(x+1,y) - s_x(x,y+1) - s_y(x,y) = 0\n",
    "            #it has 4 boundary jump nodes, so factor array is 3x3x3x3\n",
    "            \n",
    "            #create constraint matrix\n",
    "            mat = np.arange(-1,2)\n",
    "            \n",
    "            sy1 = np.arange(-1,2)\n",
    "            mat = mat.reshape(*mat.shape,1) + sy1.reshape(1,*sy1.shape)\n",
    "            \n",
    "            sx1 = np.arange(-1,2)\n",
    "            mat = mat.reshape(*mat.shape,1) - sx1.reshape(1,*sx1.shape)\n",
    "            \n",
    "            sy = np.arange(-1,2)\n",
    "            mat = mat.reshape(*mat.shape,1) - sy.reshape(1,*sy.shape)\n",
    "            \n",
    "            mask = (mat == 0) #all that are good with zero curl constraint\n",
    "            \n",
    "            mat[~mask] = 0\n",
    "            mat[mask] = 1\n",
    "            \n",
    "            factor_node_list = [f'Sx({j},{i})', f'Sy({j+1},{i})', f'Sx({j},{i+1})', f'Sy({j},{i})']\n",
    "            \n",
    "            boundary_phi = FastDiscreteFactor(factor_node_list, [3,3,3,3], mat)\n",
    "            \n",
    "            boundary_factors.append(boundary_phi)\n",
    "            boundary_edges.extend([(fn,boundary_phi) for fn in factor_node_list])\n",
    "            \n",
    "    G.add_factors(*boundary_factors)\n",
    "    G.add_edges_from(boundary_edges)\n",
    "    \n",
    "    return G\n",
    "    "
   ]
  },
  {
   "cell_type": "code",
   "execution_count": 27,
   "id": "666ac85a-e36c-48ae-bc9c-1f865673ba5b",
   "metadata": {
    "tags": []
   },
   "outputs": [
    {
     "name": "stdout",
     "output_type": "stream",
     "text": [
      "Adding nodes...\n",
      "Adding unary evidence factors...\n",
      "Adding curl constraint factors...\n"
     ]
    }
   ],
   "source": [
    "G = create_phase_unwrap_graph(im_ahat.mean(axis=2)/255,0.75)"
   ]
  },
  {
   "cell_type": "code",
   "execution_count": null,
   "id": "bef5c834-fedd-43a4-ad31-cf5cefcda7e5",
   "metadata": {
    "tags": []
   },
   "outputs": [],
   "source": [
    "nodeMargs = run_loopy_bp_parallel2(G,20,1e-5)"
   ]
  },
  {
   "cell_type": "code",
   "execution_count": null,
   "id": "f0665c9a-39a4-4814-9d4a-223e9ea70898",
   "metadata": {},
   "outputs": [],
   "source": [
    "def fix_ahat(nodeMarg, im_ahat):\n",
    "    h,w = im_ahat.shape[:2]\n",
    "    \n",
    "    depth_int = np.zeros((h,w),dtype=np.float32)\n",
    "    \n",
    "    states = [-1,0,1]\n",
    "    for i in range(h):\n",
    "        for j in range(w):\n",
    "            if j < w-1:\n",
    "                state = states[nodeMarg[f'Sx({j},{i})'].argmax()]\n",
    "                depth_int[i,j+1:] += state\n",
    "                \n",
    "            if i < h-1:\n",
    "                state = states[nodeMarg[f'Sy({j},{i})'].argmax()]\n",
    "                depth_int[i+1:,j] += state\n",
    "                \n",
    "    return depth_int + im_ahat"
   ]
  },
  {
   "cell_type": "code",
   "execution_count": null,
   "id": "fffc94f4-769a-40b0-a120-3aa6fbfa53f3",
   "metadata": {},
   "outputs": [],
   "source": [
    "fixed_depth = fix_ahat(nodeMargs,im_ahat.mean(axis=2)/255)"
   ]
  },
  {
   "cell_type": "code",
   "execution_count": null,
   "id": "fd9c9d6b-38d2-477b-8147-f4e0b8d96a9c",
   "metadata": {},
   "outputs": [],
   "source": [
    "plt.imshow(fixed_depth,cmap='gray')"
   ]
  },
  {
   "cell_type": "code",
   "execution_count": null,
   "id": "b2f1823f-6dad-4862-97f1-c8db650a60ff",
   "metadata": {},
   "outputs": [],
   "source": [
    "plt.imshow(im_ahat.mean(axis=2)/255,cmap='gray')"
   ]
  },
  {
   "cell_type": "code",
   "execution_count": null,
   "id": "b75a4d6d-3e0a-477c-9605-2dc84a4eabc2",
   "metadata": {},
   "outputs": [],
   "source": [
    "plt.hist(fixed_depth.flatten()+4)"
   ]
  },
  {
   "cell_type": "code",
   "execution_count": null,
   "id": "afd4a574-97f3-4076-b495-c651b05b269f",
   "metadata": {},
   "outputs": [],
   "source": [
    "plt.hist(im_ahat.mean(axis=2).flatten())"
   ]
  },
  {
   "cell_type": "code",
   "execution_count": null,
   "id": "a466064c-f4b2-40ab-93ef-f5ab36ff49ed",
   "metadata": {},
   "outputs": [],
   "source": []
  }
 ],
 "metadata": {
  "kernelspec": {
   "display_name": "Python 3 (ipykernel)",
   "language": "python",
   "name": "python3"
  },
  "language_info": {
   "codemirror_mode": {
    "name": "ipython",
    "version": 3
   },
   "file_extension": ".py",
   "mimetype": "text/x-python",
   "name": "python",
   "nbconvert_exporter": "python",
   "pygments_lexer": "ipython3",
   "version": "3.8.10"
  }
 },
 "nbformat": 4,
 "nbformat_minor": 5
}
