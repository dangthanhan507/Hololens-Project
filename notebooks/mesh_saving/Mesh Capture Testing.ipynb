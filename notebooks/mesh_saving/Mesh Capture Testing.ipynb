{
 "cells": [
  {
   "cell_type": "markdown",
   "id": "426d50ab-6f91-46a4-80ba-99720ebdfb91",
   "metadata": {},
   "source": [
    "# Ensuring that the Mesh Poses saved can be utilized!"
   ]
  },
  {
   "cell_type": "code",
   "execution_count": 1,
   "id": "13bea6f0-49e1-408f-b0c6-7e9da37c9edd",
   "metadata": {
    "tags": []
   },
   "outputs": [
    {
     "name": "stdout",
     "output_type": "stream",
     "text": [
      "Jupyter environment detected. Enabling Open3D WebVisualizer.\n",
      "[Open3D INFO] WebRTC GUI backend enabled.\n",
      "[Open3D INFO] WebRTCWindowSystem: HTTP handshake server disabled.\n"
     ]
    }
   ],
   "source": [
    "import numpy as np\n",
    "import matplotlib.pyplot as plt\n",
    "import open3d as o3d\n",
    "import os\n",
    "\n",
    "%matplotlib inline"
   ]
  },
  {
   "cell_type": "markdown",
   "id": "99ca84aa-2734-4ac5-83c4-43a626f6eb3b",
   "metadata": {},
   "source": [
    "## Goals\n",
    "- Mesh is captured 30 seconds w/ camera pose\n",
    "- Find a way to reconstruct what meshes have been captured (full 3d reconstruct w/ MeshLab)\n",
    "- Find correlation between mesh poses and camera poses\n",
    "- Perform unprojection to test if it works"
   ]
  },
  {
   "cell_type": "code",
   "execution_count": 4,
   "id": "fb5cb534-3e68-4e41-9ade-badb6e23dd94",
   "metadata": {
    "tags": []
   },
   "outputs": [],
   "source": [
    "# PATH = '/home/andang/workspace/CV_Lab/Hololens-Project/datasets/john_place/raw-05-09-18-46/'\n",
    "PATH = '/home/andang/workspace/Computational_Vision/HL2/Hololens-Project/datasets/john_place/vid1/'\n",
    "PATH_MESH = PATH + 'mesh/'\n",
    "# PATH_MESH = PATH + 'gt_mesh/'"
   ]
  },
  {
   "cell_type": "code",
   "execution_count": 5,
   "id": "36de2379-e28b-484f-ac97-296eb196b787",
   "metadata": {
    "tags": []
   },
   "outputs": [],
   "source": [
    "mesh_hmap = {}\n",
    "\n",
    "for path in os.listdir(PATH_MESH):\n",
    "    split_names = (path.split('.txt')[0]).split('_')\n",
    "    info_type = split_names[1]\n",
    "    timestamp = split_names[2]\n",
    "    index = split_names[3]\n",
    "    data = np.loadtxt(PATH_MESH+path) #load up info\n",
    "\n",
    "    if not (timestamp in mesh_hmap):\n",
    "        mesh_hmap[timestamp] = {}\n",
    "\n",
    "    if not index in mesh_hmap[timestamp]:\n",
    "        mesh_hmap[timestamp][index] = {}\n",
    "\n",
    "\n",
    "    mesh_hmap[timestamp][index][info_type] = data"
   ]
  },
  {
   "cell_type": "code",
   "execution_count": 8,
   "id": "9ea8f269-70bc-4aab-bc1f-6255790f0453",
   "metadata": {
    "tags": []
   },
   "outputs": [],
   "source": [
    "#open3d rendering\n",
    "open3d_meshes = []\n",
    "\n",
    "for timestamp,j in mesh_hmap.items():\n",
    "    for i,j in mesh_hmap[timestamp].items():\n",
    "        vertex_positions = j['vertex']\n",
    "        triangle_indices = j['triangles']\n",
    "        pose = j['pose']\n",
    "        vertex_position_scale = j['vertexscale']\n",
    "        vertex_normals = j['normals']\n",
    "\n",
    "\n",
    "        vertex_positions[:, 0:3] = vertex_positions[:, 0:3] * vertex_position_scale\n",
    "        vertex_positions = (vertex_positions/vertex_positions[:,3:]) @ pose\n",
    "        \n",
    "        d = np.linalg.norm(vertex_normals, axis=1)\n",
    "        vertex_normals[d > 0, :] = vertex_normals[d > 0, :] / d[d > 0, np.newaxis]\n",
    "        vertex_normals = vertex_normals @ pose\n",
    "\n",
    "        open3d_mesh = o3d.geometry.TriangleMesh()\n",
    "        open3d_mesh.vertices = o3d.utility.Vector3dVector(vertex_positions[:,0:3])\n",
    "        open3d_mesh.vertex_colors = o3d.utility.Vector3dVector(vertex_normals[:, 0:3])\n",
    "        open3d_mesh.triangles = o3d.utility.Vector3iVector(triangle_indices)\n",
    "        open3d_meshes.append(open3d_mesh)\n",
    "    break\n",
    "\n",
    "o3d.visualization.draw_geometries(open3d_meshes, mesh_show_back_face=True)"
   ]
  },
  {
   "cell_type": "code",
   "execution_count": 9,
   "id": "72b00f29-1e73-4017-98cd-187b09cead03",
   "metadata": {
    "tags": []
   },
   "outputs": [],
   "source": [
    "full_mesh = o3d.geometry.TriangleMesh()\n",
    "for open3d_mesh in open3d_meshes:\n",
    "    full_mesh += open3d_mesh"
   ]
  },
  {
   "cell_type": "code",
   "execution_count": 10,
   "id": "00eb220d-8f31-4c7a-832f-b8511db04318",
   "metadata": {
    "tags": []
   },
   "outputs": [
    {
     "data": {
      "text/plain": [
       "True"
      ]
     },
     "execution_count": 10,
     "metadata": {},
     "output_type": "execute_result"
    }
   ],
   "source": [
    "o3d.io.write_triangle_mesh('test_stuff.obj',full_mesh,write_ascii=True,write_triangle_uvs=True, write_vertex_colors=True, write_vertex_normals=True)"
   ]
  },
  {
   "cell_type": "markdown",
   "id": "a1ba3b13-0db0-4087-9071-acc99d1bce28",
   "metadata": {},
   "source": [
    "## SUCCESS! Open3D can open a 3d reconstruction mesh now"
   ]
  }
 ],
 "metadata": {
  "kernelspec": {
   "display_name": "Python 3 (ipykernel)",
   "language": "python",
   "name": "python3"
  },
  "language_info": {
   "codemirror_mode": {
    "name": "ipython",
    "version": 3
   },
   "file_extension": ".py",
   "mimetype": "text/x-python",
   "name": "python",
   "nbconvert_exporter": "python",
   "pygments_lexer": "ipython3",
   "version": "3.10.6"
  }
 },
 "nbformat": 4,
 "nbformat_minor": 5
}
