{
 "cells": [
  {
   "cell_type": "code",
   "execution_count": 1,
   "id": "5a11b0c6-4107-47b4-8af2-ef535ae8a09a",
   "metadata": {
    "tags": []
   },
   "outputs": [
    {
     "name": "stdout",
     "output_type": "stream",
     "text": [
      "Jupyter environment detected. Enabling Open3D WebVisualizer.\n",
      "[Open3D INFO] WebRTC GUI backend enabled.\n",
      "[Open3D INFO] WebRTCWindowSystem: HTTP handshake server disabled.\n"
     ]
    }
   ],
   "source": [
    "import numpy as np\n",
    "import matplotlib.pyplot as plt\n",
    "import open3d as o3d\n",
    "import os\n",
    "import json\n",
    "\n",
    "import sys\n",
    "sys.path.append(\"/home/andang/workspace/Computational_Vision/HL2/Hololens-Project/hl2ss/viewer\")\n",
    "\n",
    "%matplotlib inline"
   ]
  },
  {
   "cell_type": "code",
   "execution_count": 2,
   "id": "e97c1514-0493-49ce-ab8c-09e21d873380",
   "metadata": {
    "tags": []
   },
   "outputs": [],
   "source": [
    "import cv2\n",
    "import hl2ss\n",
    "import hl2ss_3dcv"
   ]
  },
  {
   "cell_type": "markdown",
   "id": "98420381-adb9-4c28-a9ac-6d740eabfac3",
   "metadata": {},
   "source": [
    "## Working on Aligning Mesh and Camera"
   ]
  },
  {
   "cell_type": "markdown",
   "id": "23e82a7f-8d41-4def-881a-9ea57df59aaa",
   "metadata": {},
   "source": [
    "### Code that author sent"
   ]
  },
  {
   "cell_type": "code",
   "execution_count": 137,
   "id": "9f6deaaf-928b-4b40-a5dc-c9f9b0154d28",
   "metadata": {
    "tags": []
   },
   "outputs": [],
   "source": [
    "# def get_calibration(host, calibration_path):\n",
    "#     calibration_vlc = hl2ss_3dcv.get_calibration_rm(host, hl2ss.StreamPort.RM_VLC_LEFTFRONT, calibration_path)\n",
    "#     calibration_lt  = hl2ss_3dcv.get_calibration_rm(host, hl2ss.StreamPort.RM_DEPTH_LONGTHROW, calibration_path)\n",
    "    \n",
    "#     uv2xy      = hl2ss_3dcv.compute_uv2xy(calibration_lt.intrinsics, hl2ss.Parameters_RM_DEPTH_LONGTHROW.WIDTH, hl2ss.Parameters_RM_DEPTH_LONGTHROW.HEIGHT)\n",
    "#     xy1, scale = hl2ss_3dcv.rm_depth_compute_rays(uv2xy, calibration_lt.scale)\n",
    "\n",
    "#     return calibration_vlc, calibration_lt, xy1, scale\n",
    "def camera_to_image(intrinsics):\n",
    "    return intrinsics\n",
    "\n",
    "def block_to_list(points):\n",
    "    return points.reshape((-1, points.shape[-1]))\n",
    "\n",
    "def rm_vlc_to_rgb(image):\n",
    "    return np.dstack((image, image, image))\n",
    "\n",
    "def transform(points, transform4x4):\n",
    "    return points @ transform4x4[:3, :3] + transform4x4[3, :3].reshape(([1] * (len(points.shape) - 1)).append(3))\n",
    "\n",
    "def get_inhomogeneous_component(array):\n",
    "    return array[..., 0:-1]\n",
    "\n",
    "def get_homogeneous_component(array):\n",
    "    return array[..., -1, np.newaxis]\n",
    "\n",
    "def to_inhomogeneous(array):\n",
    "    return get_inhomogeneous_component(array) / get_homogeneous_component(array)\n",
    "\n",
    "def project(points, projection4x4):\n",
    "    return to_inhomogeneous(transform(points, projection4x4))\n",
    "\n",
    "def camera_to_rignode(extrinsics):\n",
    "    return np.linalg.inv(extrinsics)\n",
    "\n",
    "def reference_to_world(pose):\n",
    "    return pose\n",
    "\n",
    "def world_to_reference(pose):\n",
    "    return np.linalg.inv(pose)\n",
    "\n",
    "def rignode_to_camera(extrinsics):\n",
    "    return extrinsics\n",
    "\n",
    "def rm_depth_undistort(depth, undistort_map):\n",
    "    return cv2.remap(depth, undistort_map[:, :, 0], undistort_map[:, :, 1], cv2.INTER_NEAREST)\n",
    "\n",
    "def get_calibration():\n",
    "    calib_pv = hl2ss_3dcv._load_calibration_pv(PATH+'../calibrations/personal_video')\n",
    "    calib_lt = hl2ss_3dcv._load_calibration_rm_depth_longthrow(PATH+'../calibrations/rm_depth_longthrow')\n",
    "    calib_rf = hl2ss_3dcv._load_calibration_rm_vlc(PATH+'../calibrations/rm_vlc_rightfront')\n",
    "    calib_lf = hl2ss_3dcv._load_calibration_rm_vlc(PATH+'../calibrations/rm_vlc_leftfront')\n",
    "    \n",
    "    uv2xy = hl2ss_3dcv.compute_uv2xy(calib_lt.intrinsics, hl2ss.Parameters_RM_DEPTH_LONGTHROW.WIDTH, hl2ss.Parameters_RM_DEPTH_LONGTHROW.HEIGHT)\n",
    "    xy1, scale = hl2ss_3dcv.rm_depth_compute_rays(uv2xy, calib_lt.scale)\n",
    "    \n",
    "    #return all calibrations + xy1 + scale\n",
    "    return calib_pv, calib_lt, calib_lf, calib_rf, xy1, scale\n",
    "\n",
    "def integrate(calibration_vlc, calibration_lt, data_vlc_payload, data_vlc_pose, data_lt_payload, data_lt_pose, rays, scale):\n",
    "    # depth = rm_depth_undistort(data_lt_payload, calibration_lt.undistort_map) / scale\n",
    "    depth = data_lt_payload / scale\n",
    "    depth = depth[:, :, np.newaxis]\n",
    "    # color = cv2.remap(data_vlc_payload, calibration_vlc.undistort_map[:, :, 0], calibration_vlc.undistort_map[:, :, 1], cv2.INTER_LINEAR)\n",
    "    color = data_vlc_payload\n",
    "    color = rm_vlc_to_rgb(color)\n",
    "\n",
    "    # lt_points          = hl2ss_3dcv.rm_depth_to_points(rays, depth)\n",
    "    lt_points = rays * depth\n",
    "    \n",
    "    lt_to_world        = camera_to_rignode(calibration_lt.extrinsics) @ reference_to_world(data_lt_pose)\n",
    "    world_to_vlc_image = world_to_reference(data_vlc_pose) @ rignode_to_camera(calibration_vlc.extrinsics) @ camera_to_image(calibration_vlc.intrinsics)\n",
    "    world_points       = transform(lt_points, lt_to_world)\n",
    "    vlc_uv             = project(world_points, world_to_vlc_image)\n",
    "    # color              = cv2.remap(color, vlc_uv[:, :, 0].astype(np.float32), vlc_uv[:, :, 1].astype(np.float32), cv2.INTER_LINEAR).astype(np.float32) / hl2ss._RANGEOF.U8_MAX\n",
    "    pcd = o3d.geometry.PointCloud()\n",
    "    pcd.points = o3d.utility.Vector3dVector(block_to_list(world_points))\n",
    "    pcd.colors = o3d.utility.Vector3dVector(block_to_list(color))\n",
    "\n",
    "    return pcd, world_points"
   ]
  },
  {
   "cell_type": "markdown",
   "id": "9a6098ae-583b-413f-b645-33ef49a336a0",
   "metadata": {},
   "source": [
    "### Calibration Retrieve Code"
   ]
  },
  {
   "cell_type": "code",
   "execution_count": 138,
   "id": "7e878146-b513-4d39-b921-0c53e82ed416",
   "metadata": {
    "tags": []
   },
   "outputs": [],
   "source": [
    "PATH = '/home/andang/workspace/Computational_Vision/HL2/Hololens-Project/datasets/john_place/slam/'\n",
    "PATH_MESH = PATH + 'mesh/'"
   ]
  },
  {
   "cell_type": "code",
   "execution_count": 139,
   "id": "35b4ffb5-2e58-400b-825b-75684e5495cf",
   "metadata": {
    "tags": []
   },
   "outputs": [],
   "source": [
    "caliv_pv, calib_lt, calib_lf, calib_rf, xy, scale = get_calibration()"
   ]
  },
  {
   "cell_type": "markdown",
   "id": "a98a7b9a-b2ca-4abf-9283-055971b49ac1",
   "metadata": {},
   "source": [
    "## VLC Longthrow Retrieve"
   ]
  },
  {
   "cell_type": "code",
   "execution_count": 140,
   "id": "0a6c5a22-3c65-42c1-9aed-bcfd61352b19",
   "metadata": {
    "tags": []
   },
   "outputs": [],
   "source": [
    "with open(PATH+'vlc1_pose.json') as f: # vlc LF\n",
    "    j_vlclf = json.load(f)\n",
    "with open(PATH+'depth_lt_pose.json') as f: # long throw\n",
    "    j_lt = json.load(f)"
   ]
  },
  {
   "cell_type": "code",
   "execution_count": 141,
   "id": "d2d1e116-3ef1-410b-875d-ef1118ceca5b",
   "metadata": {
    "tags": []
   },
   "outputs": [],
   "source": [
    "vlclf_tstamps = sorted(j_vlclf.keys())\n",
    "lt_tstamps = sorted(j_lt.keys())"
   ]
  },
  {
   "cell_type": "code",
   "execution_count": 142,
   "id": "c97bc69a-e612-4ec7-aed0-6ea3a6d2a842",
   "metadata": {
    "tags": []
   },
   "outputs": [],
   "source": [
    "def get_im(tstamp, root_path):\n",
    "    return cv2.imread(root_path+tstamp+'.png')"
   ]
  },
  {
   "cell_type": "code",
   "execution_count": 143,
   "id": "db2a9fd3-6738-42ef-90d0-e3da25996c51",
   "metadata": {
    "tags": []
   },
   "outputs": [],
   "source": [
    "assert lt_tstamps[0] == vlclf_tstamps[0]"
   ]
  },
  {
   "cell_type": "code",
   "execution_count": 144,
   "id": "09e97325-d212-40be-ac51-7898e41f673a",
   "metadata": {
    "tags": []
   },
   "outputs": [],
   "source": [
    "vlclf_im0 = np.mean(get_im(vlclf_tstamps[0], PATH+'vlc_lf/'),axis=2)\n",
    "lt_im0 = np.mean(get_im(lt_tstamps[0], PATH+'depth_lt/'),axis=2)"
   ]
  },
  {
   "cell_type": "code",
   "execution_count": 150,
   "id": "016d9b69-7428-4c3e-a72e-9ed7be80d103",
   "metadata": {
    "tags": []
   },
   "outputs": [],
   "source": [
    "# show the point cloud generation code\n",
    "pcd0,pts3d = integrate(calib_lf, calib_lt, vlclf_im0, j_vlclf[vlclf_tstamps[0]], lt_im0, j_vlclf[vlclf_tstamps[0]], xy, scale)\n",
    "pts3d = pts3d.T.reshape(3,-1)\n",
    "\n",
    "xs = pts3d[0,:]\n",
    "ys = pts3d[1,:]\n",
    "zs = pts3d[2,:]"
   ]
  },
  {
   "cell_type": "code",
   "execution_count": 202,
   "id": "8cd0b0ad-20ea-4bd6-8275-0e76c68a6638",
   "metadata": {
    "tags": []
   },
   "outputs": [
    {
     "ename": "TypeError",
     "evalue": "unsupported operand type(s) for *: 'open3d.cuda.pybind.geometry.PointCloud' and 'float'",
     "output_type": "error",
     "traceback": [
      "\u001b[0;31m---------------------------------------------------------------------------\u001b[0m",
      "\u001b[0;31mTypeError\u001b[0m                                 Traceback (most recent call last)",
      "Cell \u001b[0;32mIn[202], line 8\u001b[0m\n\u001b[1;32m      6\u001b[0m lt_im \u001b[38;5;241m=\u001b[39m np\u001b[38;5;241m.\u001b[39mmean(get_im(lt_tstamps[sep\u001b[38;5;241m*\u001b[39mi], PATH\u001b[38;5;241m+\u001b[39m\u001b[38;5;124m'\u001b[39m\u001b[38;5;124mdepth_lt/\u001b[39m\u001b[38;5;124m'\u001b[39m),axis\u001b[38;5;241m=\u001b[39m\u001b[38;5;241m2\u001b[39m)\n\u001b[1;32m      7\u001b[0m pcd0,pts3d \u001b[38;5;241m=\u001b[39m integrate(calib_lf, calib_lt, vlclf_im, np\u001b[38;5;241m.\u001b[39marray(j_vlclf[vlclf_tstamps[sep\u001b[38;5;241m*\u001b[39mi]]), lt_im, np\u001b[38;5;241m.\u001b[39marray(j_vlclf[vlclf_tstamps[sep\u001b[38;5;241m*\u001b[39mi]]), xy, scale)\n\u001b[0;32m----> 8\u001b[0m pcd0 \u001b[38;5;241m=\u001b[39m \u001b[43mpcd0\u001b[49m\u001b[38;5;241;43m*\u001b[39;49m\u001b[43mvertex_position_scale\u001b[49m\n\u001b[1;32m      9\u001b[0m pcds\u001b[38;5;241m.\u001b[39mappend(pcd0)\n",
      "\u001b[0;31mTypeError\u001b[0m: unsupported operand type(s) for *: 'open3d.cuda.pybind.geometry.PointCloud' and 'float'"
     ]
    }
   ],
   "source": [
    "NUM_PCD = 1\n",
    "sep = 1\n",
    "pcds = []\n",
    "for i in range(NUM_PCD):\n",
    "    vlclf_im = np.mean(get_im(vlclf_tstamps[sep*i], PATH+'vlc_lf/'),axis=2)\n",
    "    lt_im = np.mean(get_im(lt_tstamps[sep*i], PATH+'depth_lt/'),axis=2)\n",
    "    pcd0,pts3d = integrate(calib_lf, calib_lt, vlclf_im, np.array(j_vlclf[vlclf_tstamps[sep*i]]), lt_im, np.array(j_vlclf[vlclf_tstamps[sep*i]]), xy, scale)\n",
    "    pcds.append(pcd0)\n",
    "    "
   ]
  },
  {
   "cell_type": "markdown",
   "id": "95efdbb3-5898-4dab-a3b4-40113068c90b",
   "metadata": {},
   "source": [
    "### Mesh retrieve code"
   ]
  },
  {
   "cell_type": "code",
   "execution_count": 191,
   "id": "fa0a874b-40bd-4bd8-993e-edd96c2f66a7",
   "metadata": {
    "tags": []
   },
   "outputs": [],
   "source": [
    "# loaded all mesh data structures\n",
    "CAP_MESH = PATH + 'mesh/'\n",
    "mesh_hmap = {}\n",
    "\n",
    "for path in os.listdir(CAP_MESH):\n",
    "    split_names = (path.split('.txt')[0]).split('_')\n",
    "    info_type = split_names[1]\n",
    "    timestamp = split_names[2]\n",
    "    index = split_names[3]\n",
    "    data = np.loadtxt(CAP_MESH+path) #load up info\n",
    "\n",
    "    if not (timestamp in mesh_hmap):\n",
    "        mesh_hmap[timestamp] = {}\n",
    "\n",
    "    if not index in mesh_hmap[timestamp]:\n",
    "        mesh_hmap[timestamp][index] = {}\n",
    "\n",
    "\n",
    "    mesh_hmap[timestamp][index][info_type] = data"
   ]
  },
  {
   "cell_type": "markdown",
   "id": "e1d160d7-0684-408a-94fe-c5ad50a5d30c",
   "metadata": {},
   "source": [
    "### adding Open3D Meshes for Visualizer"
   ]
  },
  {
   "cell_type": "code",
   "execution_count": 220,
   "id": "fbb67ddb-9d2b-415f-8d5e-c9e05804544d",
   "metadata": {
    "tags": []
   },
   "outputs": [],
   "source": [
    "#open3d rendering\n",
    "open3d_meshes = []\n",
    "ctr = 0\n",
    "\n",
    "length = 0\n",
    "mu = np.zeros((4,1))\n",
    "var = np.zeros((4,1))\n",
    "for timestamp,j in mesh_hmap.items():\n",
    "    for i,j in mesh_hmap[timestamp].items():\n",
    "        vertex_positions = j['vertex'].copy()\n",
    "        triangle_indices = j['triangles'].copy()\n",
    "        pose = j['pose'].copy()\n",
    "        vertex_position_scale = j['vertexscale'].copy()\n",
    "        vertex_normals = j['normals'].copy()\n",
    "\n",
    "\n",
    "        vertex_positions[:, 0:3] = vertex_positions[:, 0:3] * vertex_position_scale\n",
    "        vertex_positions = (vertex_positions/vertex_positions[:,3:]) @ pose\n",
    "        d = np.linalg.norm(vertex_normals, axis=1)\n",
    "        vertex_normals[d > 0, :] = vertex_normals[d > 0, :] / d[d > 0, np.newaxis]\n",
    "        vertex_normals = vertex_normals @ pose\n",
    "        \n",
    "        mu += vertex_positions.sum(axis=0).reshape(4,1)\n",
    "        length += vertex_positions.shape[0]\n",
    "        \n",
    "        open3d_mesh = o3d.geometry.TriangleMesh()\n",
    "        open3d_mesh.vertices = o3d.utility.Vector3dVector(vertex_positions[:,0:3])\n",
    "        open3d_mesh.vertex_colors = o3d.utility.Vector3dVector(vertex_normals[:, 0:3])\n",
    "        open3d_mesh.triangles = o3d.utility.Vector3iVector(triangle_indices)\n",
    "        \n",
    "        open3d_meshes.append(open3d_mesh)\n",
    "        \n",
    "        # ctr += 1\n",
    "        # if ctr > 1:\n",
    "        #     break\n",
    "    break\n",
    "    \n",
    "mu /= length\n",
    "\n",
    "\n",
    "for timestamp,j in mesh_hmap.items():\n",
    "    for i,j in mesh_hmap[timestamp].items():    \n",
    "        vertex_positions = j['vertex'].copy()\n",
    "        triangle_indices = j['triangles'].copy()\n",
    "        pose = j['pose'].copy()\n",
    "        vertex_position_scale = j['vertexscale'].copy()\n",
    "        vertex_normals = j['normals'].copy()\n",
    "\n",
    "\n",
    "        vertex_positions[:, 0:3] = vertex_positions[:, 0:3] * vertex_position_scale\n",
    "        vertex_positions = (vertex_positions/vertex_positions[:,3:]) @ pose\n",
    "        d = np.linalg.norm(vertex_normals, axis=1)\n",
    "        vertex_normals[d > 0, :] = vertex_normals[d > 0, :] / d[d > 0, np.newaxis]\n",
    "        vertex_normals = vertex_normals @ pose\n",
    "        \n",
    "        var += ((vertex_positions.T - mu)**2).sum(axis=1).reshape(4,1)\n",
    "var /= (length-1)\n",
    "\n",
    "open3d_meshes.extend(pcds)"
   ]
  },
  {
   "cell_type": "code",
   "execution_count": 221,
   "id": "990d603a-fd7e-451d-9c3b-b28377ae32d9",
   "metadata": {
    "tags": []
   },
   "outputs": [
    {
     "data": {
      "text/plain": [
       "(array([[  95.17896493],\n",
       "        [ -95.18262423],\n",
       "        [-138.89902316],\n",
       "        [   1.        ]]),\n",
       " array([[ 907.98226169],\n",
       "        [1493.24237951],\n",
       "        [1507.30597984],\n",
       "        [   0.        ]]))"
      ]
     },
     "execution_count": 221,
     "metadata": {},
     "output_type": "execute_result"
    }
   ],
   "source": [
    "mu,np.sqrt(var)"
   ]
  },
  {
   "cell_type": "code",
   "execution_count": 201,
   "id": "91851513-b6ac-428b-9eac-9a4a900cede6",
   "metadata": {
    "tags": []
   },
   "outputs": [],
   "source": [
    "o3d.visualization.draw_geometries(open3d_meshes, mesh_show_back_face=True,point_show_normal=True)"
   ]
  },
  {
   "cell_type": "code",
   "execution_count": 223,
   "id": "504feb47-66e0-4d67-8f70-d812ac3f4305",
   "metadata": {
    "tags": []
   },
   "outputs": [],
   "source": [
    "MORE_PATH = '/home/andang/workspace/Computational_Vision/HL2/Hololens-Project/datasets/john_place/'"
   ]
  },
  {
   "cell_type": "code",
   "execution_count": 226,
   "id": "b59a894a-d083-4431-9600-b79ea20aaa10",
   "metadata": {
    "tags": []
   },
   "outputs": [],
   "source": [
    "mesh = o3d.io.read_triangle_mesh(MORE_PATH+\"john_scene.obj\")\n",
    "o3d.visualization.draw_geometries(open3d_meshes+[mesh], mesh_show_back_face=True,point_show_normal=True)"
   ]
  },
  {
   "cell_type": "code",
   "execution_count": 232,
   "id": "4f161120-e254-4d4b-a282-2f1441e89900",
   "metadata": {
    "tags": []
   },
   "outputs": [],
   "source": [
    "pts = np.asarray(mesh.vertices).T"
   ]
  },
  {
   "cell_type": "code",
   "execution_count": 237,
   "id": "3b7bb46e-84cf-422a-a60d-a4f5f18daef3",
   "metadata": {
    "tags": []
   },
   "outputs": [
    {
     "data": {
      "text/plain": [
       "(array([ 1.05135688,  0.24483478, -2.78123832]),\n",
       " array([3.84721798, 0.6775916 , 5.86544716]))"
      ]
     },
     "execution_count": 237,
     "metadata": {},
     "output_type": "execute_result"
    }
   ],
   "source": [
    "np.mean(pts,axis=1),np.var(pts,axis=1)"
   ]
  },
  {
   "cell_type": "code",
   "execution_count": 238,
   "id": "acb8d0d7-491f-45a4-864d-ee56275d86cf",
   "metadata": {
    "tags": []
   },
   "outputs": [
    {
     "data": {
      "text/plain": [
       "(array([-2.35313463, -0.81625557, -9.27962971]),\n",
       " array([5.39333105, 2.1154871 , 0.56640631]))"
      ]
     },
     "execution_count": 238,
     "metadata": {},
     "output_type": "execute_result"
    }
   ],
   "source": [
    "np.min(pts,axis=1),np.max(pts,axis=1)"
   ]
  },
  {
   "cell_type": "code",
   "execution_count": null,
   "id": "d43300d8-6fbb-4d63-b8fa-1a3818547db8",
   "metadata": {},
   "outputs": [],
   "source": []
  }
 ],
 "metadata": {
  "kernelspec": {
   "display_name": "Python 3 (ipykernel)",
   "language": "python",
   "name": "python3"
  },
  "language_info": {
   "codemirror_mode": {
    "name": "ipython",
    "version": 3
   },
   "file_extension": ".py",
   "mimetype": "text/x-python",
   "name": "python",
   "nbconvert_exporter": "python",
   "pygments_lexer": "ipython3",
   "version": "3.10.6"
  }
 },
 "nbformat": 4,
 "nbformat_minor": 5
}
